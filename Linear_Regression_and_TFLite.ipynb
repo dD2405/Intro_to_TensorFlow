{
  "nbformat": 4,
  "nbformat_minor": 0,
  "metadata": {
    "colab": {
      "name": "Linear Regression and TFLite.ipynb",
      "provenance": [],
      "authorship_tag": "ABX9TyOMWmrU3Ati/Uiv1tNFltG0",
      "include_colab_link": true
    },
    "kernelspec": {
      "name": "python3",
      "display_name": "Python 3"
    },
    "accelerator": "GPU"
  },
  "cells": [
    {
      "cell_type": "markdown",
      "metadata": {
        "id": "view-in-github",
        "colab_type": "text"
      },
      "source": [
        "<a href=\"https://colab.research.google.com/github/dD2405/Intro_to_TensorFlow/blob/master/Linear_Regression_and_TFLite.ipynb\" target=\"_parent\"><img src=\"https://colab.research.google.com/assets/colab-badge.svg\" alt=\"Open In Colab\"/></a>"
      ]
    },
    {
      "cell_type": "markdown",
      "metadata": {
        "id": "TaKFIvNNU_39",
        "colab_type": "text"
      },
      "source": [
        "# Running TFLite models"
      ]
    },
    {
      "cell_type": "code",
      "metadata": {
        "id": "zbpOJ2wNUxw_",
        "colab_type": "code",
        "colab": {
          "base_uri": "https://localhost:8080/",
          "height": 34
        },
        "outputId": "ddf4ab54-6ee2-432e-8161-938c16a12901"
      },
      "source": [
        "try:\n",
        "    %tensorflow_version 2.x\n",
        "except:\n",
        "    pass"
      ],
      "execution_count": 1,
      "outputs": [
        {
          "output_type": "stream",
          "text": [
            "TensorFlow 2.x selected.\n"
          ],
          "name": "stdout"
        }
      ]
    },
    {
      "cell_type": "code",
      "metadata": {
        "id": "jaVMaov2VT7x",
        "colab_type": "code",
        "colab": {}
      },
      "source": [
        "from __future__ import absolute_import, division, print_function, unicode_literals\n",
        "import tensorflow as tf\n",
        "\n",
        "import pathlib\n",
        "import numpy as np\n",
        "import matplotlib.pyplot as plt\n",
        "\n",
        "from tensorflow.keras.models import Model\n",
        "from tensorflow.keras.layers import Input"
      ],
      "execution_count": 0,
      "outputs": []
    },
    {
      "cell_type": "markdown",
      "metadata": {
        "id": "JcMQAZbuWM-b",
        "colab_type": "text"
      },
      "source": [
        "## Create a basic model of the form y = mx + c"
      ]
    },
    {
      "cell_type": "code",
      "metadata": {
        "id": "yAL0P7KLWIZD",
        "colab_type": "code",
        "colab": {
          "base_uri": "https://localhost:8080/",
          "height": 1000
        },
        "outputId": "d24ad35c-422b-4af4-d004-31b1fcefc3f0"
      },
      "source": [
        "x = [-1, 0, 1, 2, 3, 4]\n",
        "y = [-3, -1, 1, 3, 5, 7]\n",
        "\n",
        "model = tf.keras.Sequential([\n",
        "                             tf.keras.layers.Dense(units=1, input_shape=[1])])\n",
        "\n",
        "model.compile(optimizer='sgd', loss = 'mean_squared_error')\n",
        "model.fit(x, y, epochs=200, verbose=1)"
      ],
      "execution_count": 4,
      "outputs": [
        {
          "output_type": "stream",
          "text": [
            "Train on 6 samples\n",
            "Epoch 1/200\n",
            "6/6 [==============================] - 2s 309ms/sample - loss: 55.0821\n",
            "Epoch 2/200\n",
            "6/6 [==============================] - 0s 2ms/sample - loss: 43.7491\n",
            "Epoch 3/200\n",
            "6/6 [==============================] - 0s 966us/sample - loss: 34.8243\n",
            "Epoch 4/200\n",
            "6/6 [==============================] - 0s 1ms/sample - loss: 27.7945\n",
            "Epoch 5/200\n",
            "6/6 [==============================] - 0s 811us/sample - loss: 22.2555\n",
            "Epoch 6/200\n",
            "6/6 [==============================] - 0s 1ms/sample - loss: 17.8898\n",
            "Epoch 7/200\n",
            "6/6 [==============================] - 0s 1ms/sample - loss: 14.4473\n",
            "Epoch 8/200\n",
            "6/6 [==============================] - 0s 944us/sample - loss: 11.7312\n",
            "Epoch 9/200\n",
            "6/6 [==============================] - 0s 951us/sample - loss: 9.5868\n",
            "Epoch 10/200\n",
            "6/6 [==============================] - 0s 974us/sample - loss: 7.8924\n",
            "Epoch 11/200\n",
            "6/6 [==============================] - 0s 929us/sample - loss: 6.5521\n",
            "Epoch 12/200\n",
            "6/6 [==============================] - 0s 757us/sample - loss: 5.4906\n",
            "Epoch 13/200\n",
            "6/6 [==============================] - 0s 989us/sample - loss: 4.6486\n",
            "Epoch 14/200\n",
            "6/6 [==============================] - 0s 986us/sample - loss: 3.9793\n",
            "Epoch 15/200\n",
            "6/6 [==============================] - 0s 949us/sample - loss: 3.4462\n",
            "Epoch 16/200\n",
            "6/6 [==============================] - 0s 1ms/sample - loss: 3.0203\n",
            "Epoch 17/200\n",
            "6/6 [==============================] - 0s 798us/sample - loss: 2.6788\n",
            "Epoch 18/200\n",
            "6/6 [==============================] - 0s 791us/sample - loss: 2.4040\n",
            "Epoch 19/200\n",
            "6/6 [==============================] - 0s 979us/sample - loss: 2.1817\n",
            "Epoch 20/200\n",
            "6/6 [==============================] - 0s 743us/sample - loss: 2.0008\n",
            "Epoch 21/200\n",
            "6/6 [==============================] - 0s 1ms/sample - loss: 1.8526\n",
            "Epoch 22/200\n",
            "6/6 [==============================] - 0s 925us/sample - loss: 1.7304\n",
            "Epoch 23/200\n",
            "6/6 [==============================] - 0s 986us/sample - loss: 1.6286\n",
            "Epoch 24/200\n",
            "6/6 [==============================] - 0s 1ms/sample - loss: 1.5430\n",
            "Epoch 25/200\n",
            "6/6 [==============================] - 0s 1ms/sample - loss: 1.4703\n",
            "Epoch 26/200\n",
            "6/6 [==============================] - 0s 980us/sample - loss: 1.4078\n",
            "Epoch 27/200\n",
            "6/6 [==============================] - 0s 1ms/sample - loss: 1.3535\n",
            "Epoch 28/200\n",
            "6/6 [==============================] - 0s 833us/sample - loss: 1.3057\n",
            "Epoch 29/200\n",
            "6/6 [==============================] - 0s 1ms/sample - loss: 1.2632\n",
            "Epoch 30/200\n",
            "6/6 [==============================] - 0s 997us/sample - loss: 1.2249\n",
            "Epoch 31/200\n",
            "6/6 [==============================] - 0s 1ms/sample - loss: 1.1900\n",
            "Epoch 32/200\n",
            "6/6 [==============================] - 0s 1ms/sample - loss: 1.1579\n",
            "Epoch 33/200\n",
            "6/6 [==============================] - 0s 1ms/sample - loss: 1.1281\n",
            "Epoch 34/200\n",
            "6/6 [==============================] - 0s 2ms/sample - loss: 1.1002\n",
            "Epoch 35/200\n",
            "6/6 [==============================] - 0s 2ms/sample - loss: 1.0739\n",
            "Epoch 36/200\n",
            "6/6 [==============================] - 0s 2ms/sample - loss: 1.0489\n",
            "Epoch 37/200\n",
            "6/6 [==============================] - 0s 1ms/sample - loss: 1.0250\n",
            "Epoch 38/200\n",
            "6/6 [==============================] - 0s 1ms/sample - loss: 1.0021\n",
            "Epoch 39/200\n",
            "6/6 [==============================] - 0s 1ms/sample - loss: 0.9801\n",
            "Epoch 40/200\n",
            "6/6 [==============================] - 0s 931us/sample - loss: 0.9589\n",
            "Epoch 41/200\n",
            "6/6 [==============================] - 0s 1ms/sample - loss: 0.9383\n",
            "Epoch 42/200\n",
            "6/6 [==============================] - 0s 1ms/sample - loss: 0.9183\n",
            "Epoch 43/200\n",
            "6/6 [==============================] - 0s 1ms/sample - loss: 0.8989\n",
            "Epoch 44/200\n",
            "6/6 [==============================] - 0s 1ms/sample - loss: 0.8800\n",
            "Epoch 45/200\n",
            "6/6 [==============================] - 0s 2ms/sample - loss: 0.8616\n",
            "Epoch 46/200\n",
            "6/6 [==============================] - 0s 3ms/sample - loss: 0.8436\n",
            "Epoch 47/200\n",
            "6/6 [==============================] - 0s 985us/sample - loss: 0.8261\n",
            "Epoch 48/200\n",
            "6/6 [==============================] - 0s 1ms/sample - loss: 0.8090\n",
            "Epoch 49/200\n",
            "6/6 [==============================] - 0s 1ms/sample - loss: 0.7922\n",
            "Epoch 50/200\n",
            "6/6 [==============================] - 0s 1ms/sample - loss: 0.7758\n",
            "Epoch 51/200\n",
            "6/6 [==============================] - 0s 963us/sample - loss: 0.7598\n",
            "Epoch 52/200\n",
            "6/6 [==============================] - 0s 1ms/sample - loss: 0.7442\n",
            "Epoch 53/200\n",
            "6/6 [==============================] - 0s 1ms/sample - loss: 0.7288\n",
            "Epoch 54/200\n",
            "6/6 [==============================] - 0s 1ms/sample - loss: 0.7138\n",
            "Epoch 55/200\n",
            "6/6 [==============================] - 0s 1ms/sample - loss: 0.6991\n",
            "Epoch 56/200\n",
            "6/6 [==============================] - 0s 1ms/sample - loss: 0.6847\n",
            "Epoch 57/200\n",
            "6/6 [==============================] - 0s 932us/sample - loss: 0.6707\n",
            "Epoch 58/200\n",
            "6/6 [==============================] - 0s 2ms/sample - loss: 0.6569\n",
            "Epoch 59/200\n",
            "6/6 [==============================] - 0s 1ms/sample - loss: 0.6434\n",
            "Epoch 60/200\n",
            "6/6 [==============================] - 0s 1ms/sample - loss: 0.6301\n",
            "Epoch 61/200\n",
            "6/6 [==============================] - 0s 1ms/sample - loss: 0.6172\n",
            "Epoch 62/200\n",
            "6/6 [==============================] - 0s 1ms/sample - loss: 0.6045\n",
            "Epoch 63/200\n",
            "6/6 [==============================] - 0s 1ms/sample - loss: 0.5921\n",
            "Epoch 64/200\n",
            "6/6 [==============================] - 0s 1ms/sample - loss: 0.5799\n",
            "Epoch 65/200\n",
            "6/6 [==============================] - 0s 1ms/sample - loss: 0.5680\n",
            "Epoch 66/200\n",
            "6/6 [==============================] - 0s 1ms/sample - loss: 0.5563\n",
            "Epoch 67/200\n",
            "6/6 [==============================] - 0s 2ms/sample - loss: 0.5449\n",
            "Epoch 68/200\n",
            "6/6 [==============================] - 0s 847us/sample - loss: 0.5337\n",
            "Epoch 69/200\n",
            "6/6 [==============================] - 0s 986us/sample - loss: 0.5227\n",
            "Epoch 70/200\n",
            "6/6 [==============================] - 0s 1ms/sample - loss: 0.5120\n",
            "Epoch 71/200\n",
            "6/6 [==============================] - 0s 1ms/sample - loss: 0.5015\n",
            "Epoch 72/200\n",
            "6/6 [==============================] - 0s 2ms/sample - loss: 0.4912\n",
            "Epoch 73/200\n",
            "6/6 [==============================] - 0s 1ms/sample - loss: 0.4811\n",
            "Epoch 74/200\n",
            "6/6 [==============================] - 0s 1ms/sample - loss: 0.4712\n",
            "Epoch 75/200\n",
            "6/6 [==============================] - 0s 1ms/sample - loss: 0.4615\n",
            "Epoch 76/200\n",
            "6/6 [==============================] - 0s 1ms/sample - loss: 0.4521\n",
            "Epoch 77/200\n",
            "6/6 [==============================] - 0s 2ms/sample - loss: 0.4428\n",
            "Epoch 78/200\n",
            "6/6 [==============================] - 0s 1ms/sample - loss: 0.4337\n",
            "Epoch 79/200\n",
            "6/6 [==============================] - 0s 1ms/sample - loss: 0.4248\n",
            "Epoch 80/200\n",
            "6/6 [==============================] - 0s 1ms/sample - loss: 0.4160\n",
            "Epoch 81/200\n",
            "6/6 [==============================] - 0s 1ms/sample - loss: 0.4075\n",
            "Epoch 82/200\n",
            "6/6 [==============================] - 0s 1ms/sample - loss: 0.3991\n",
            "Epoch 83/200\n",
            "6/6 [==============================] - 0s 1ms/sample - loss: 0.3909\n",
            "Epoch 84/200\n",
            "6/6 [==============================] - 0s 1ms/sample - loss: 0.3829\n",
            "Epoch 85/200\n",
            "6/6 [==============================] - 0s 1ms/sample - loss: 0.3750\n",
            "Epoch 86/200\n",
            "6/6 [==============================] - 0s 1ms/sample - loss: 0.3673\n",
            "Epoch 87/200\n",
            "6/6 [==============================] - 0s 1ms/sample - loss: 0.3598\n",
            "Epoch 88/200\n",
            "6/6 [==============================] - 0s 1ms/sample - loss: 0.3524\n",
            "Epoch 89/200\n",
            "6/6 [==============================] - 0s 1ms/sample - loss: 0.3452\n",
            "Epoch 90/200\n",
            "6/6 [==============================] - 0s 1ms/sample - loss: 0.3381\n",
            "Epoch 91/200\n",
            "6/6 [==============================] - 0s 1ms/sample - loss: 0.3311\n",
            "Epoch 92/200\n",
            "6/6 [==============================] - 0s 1ms/sample - loss: 0.3243\n",
            "Epoch 93/200\n",
            "6/6 [==============================] - 0s 1ms/sample - loss: 0.3177\n",
            "Epoch 94/200\n",
            "6/6 [==============================] - 0s 2ms/sample - loss: 0.3111\n",
            "Epoch 95/200\n",
            "6/6 [==============================] - 0s 2ms/sample - loss: 0.3047\n",
            "Epoch 96/200\n",
            "6/6 [==============================] - 0s 2ms/sample - loss: 0.2985\n",
            "Epoch 97/200\n",
            "6/6 [==============================] - 0s 2ms/sample - loss: 0.2924\n",
            "Epoch 98/200\n",
            "6/6 [==============================] - 0s 955us/sample - loss: 0.2863\n",
            "Epoch 99/200\n",
            "6/6 [==============================] - 0s 2ms/sample - loss: 0.2805\n",
            "Epoch 100/200\n",
            "6/6 [==============================] - 0s 2ms/sample - loss: 0.2747\n",
            "Epoch 101/200\n",
            "6/6 [==============================] - 0s 1ms/sample - loss: 0.2691\n",
            "Epoch 102/200\n",
            "6/6 [==============================] - 0s 2ms/sample - loss: 0.2635\n",
            "Epoch 103/200\n",
            "6/6 [==============================] - 0s 1ms/sample - loss: 0.2581\n",
            "Epoch 104/200\n",
            "6/6 [==============================] - 0s 1ms/sample - loss: 0.2528\n",
            "Epoch 105/200\n",
            "6/6 [==============================] - 0s 1ms/sample - loss: 0.2476\n",
            "Epoch 106/200\n",
            "6/6 [==============================] - 0s 1ms/sample - loss: 0.2425\n",
            "Epoch 107/200\n",
            "6/6 [==============================] - 0s 1ms/sample - loss: 0.2376\n",
            "Epoch 108/200\n",
            "6/6 [==============================] - 0s 1ms/sample - loss: 0.2327\n",
            "Epoch 109/200\n",
            "6/6 [==============================] - 0s 1ms/sample - loss: 0.2279\n",
            "Epoch 110/200\n",
            "6/6 [==============================] - 0s 1ms/sample - loss: 0.2232\n",
            "Epoch 111/200\n",
            "6/6 [==============================] - 0s 1ms/sample - loss: 0.2186\n",
            "Epoch 112/200\n",
            "6/6 [==============================] - 0s 1ms/sample - loss: 0.2141\n",
            "Epoch 113/200\n",
            "6/6 [==============================] - 0s 1ms/sample - loss: 0.2097\n",
            "Epoch 114/200\n",
            "6/6 [==============================] - 0s 1ms/sample - loss: 0.2054\n",
            "Epoch 115/200\n",
            "6/6 [==============================] - 0s 1ms/sample - loss: 0.2012\n",
            "Epoch 116/200\n",
            "6/6 [==============================] - 0s 1ms/sample - loss: 0.1971\n",
            "Epoch 117/200\n",
            "6/6 [==============================] - 0s 1ms/sample - loss: 0.1930\n",
            "Epoch 118/200\n",
            "6/6 [==============================] - 0s 2ms/sample - loss: 0.1891\n",
            "Epoch 119/200\n",
            "6/6 [==============================] - 0s 2ms/sample - loss: 0.1852\n",
            "Epoch 120/200\n",
            "6/6 [==============================] - 0s 827us/sample - loss: 0.1814\n",
            "Epoch 121/200\n",
            "6/6 [==============================] - 0s 1ms/sample - loss: 0.1777\n",
            "Epoch 122/200\n",
            "6/6 [==============================] - 0s 1ms/sample - loss: 0.1740\n",
            "Epoch 123/200\n",
            "6/6 [==============================] - 0s 1ms/sample - loss: 0.1704\n",
            "Epoch 124/200\n",
            "6/6 [==============================] - 0s 1ms/sample - loss: 0.1669\n",
            "Epoch 125/200\n",
            "6/6 [==============================] - 0s 1ms/sample - loss: 0.1635\n",
            "Epoch 126/200\n",
            "6/6 [==============================] - 0s 2ms/sample - loss: 0.1601\n",
            "Epoch 127/200\n",
            "6/6 [==============================] - 0s 1ms/sample - loss: 0.1569\n",
            "Epoch 128/200\n",
            "6/6 [==============================] - 0s 1ms/sample - loss: 0.1536\n",
            "Epoch 129/200\n",
            "6/6 [==============================] - 0s 2ms/sample - loss: 0.1505\n",
            "Epoch 130/200\n",
            "6/6 [==============================] - 0s 813us/sample - loss: 0.1474\n",
            "Epoch 131/200\n",
            "6/6 [==============================] - 0s 1ms/sample - loss: 0.1444\n",
            "Epoch 132/200\n",
            "6/6 [==============================] - 0s 2ms/sample - loss: 0.1414\n",
            "Epoch 133/200\n",
            "6/6 [==============================] - 0s 1ms/sample - loss: 0.1385\n",
            "Epoch 134/200\n",
            "6/6 [==============================] - 0s 1ms/sample - loss: 0.1356\n",
            "Epoch 135/200\n",
            "6/6 [==============================] - 0s 1ms/sample - loss: 0.1329\n",
            "Epoch 136/200\n",
            "6/6 [==============================] - 0s 1ms/sample - loss: 0.1301\n",
            "Epoch 137/200\n",
            "6/6 [==============================] - 0s 1ms/sample - loss: 0.1275\n",
            "Epoch 138/200\n",
            "6/6 [==============================] - 0s 1ms/sample - loss: 0.1248\n",
            "Epoch 139/200\n",
            "6/6 [==============================] - 0s 1ms/sample - loss: 0.1223\n",
            "Epoch 140/200\n",
            "6/6 [==============================] - 0s 2ms/sample - loss: 0.1198\n",
            "Epoch 141/200\n",
            "6/6 [==============================] - 0s 2ms/sample - loss: 0.1173\n",
            "Epoch 142/200\n",
            "6/6 [==============================] - 0s 1ms/sample - loss: 0.1149\n",
            "Epoch 143/200\n",
            "6/6 [==============================] - 0s 923us/sample - loss: 0.1125\n",
            "Epoch 144/200\n",
            "6/6 [==============================] - 0s 2ms/sample - loss: 0.1102\n",
            "Epoch 145/200\n",
            "6/6 [==============================] - 0s 2ms/sample - loss: 0.1080\n",
            "Epoch 146/200\n",
            "6/6 [==============================] - 0s 2ms/sample - loss: 0.1057\n",
            "Epoch 147/200\n",
            "6/6 [==============================] - 0s 1ms/sample - loss: 0.1036\n",
            "Epoch 148/200\n",
            "6/6 [==============================] - 0s 1ms/sample - loss: 0.1014\n",
            "Epoch 149/200\n",
            "6/6 [==============================] - 0s 1ms/sample - loss: 0.0994\n",
            "Epoch 150/200\n",
            "6/6 [==============================] - 0s 1ms/sample - loss: 0.0973\n",
            "Epoch 151/200\n",
            "6/6 [==============================] - 0s 2ms/sample - loss: 0.0953\n",
            "Epoch 152/200\n",
            "6/6 [==============================] - 0s 2ms/sample - loss: 0.0934\n",
            "Epoch 153/200\n",
            "6/6 [==============================] - 0s 1ms/sample - loss: 0.0914\n",
            "Epoch 154/200\n",
            "6/6 [==============================] - 0s 1ms/sample - loss: 0.0896\n",
            "Epoch 155/200\n",
            "6/6 [==============================] - 0s 1ms/sample - loss: 0.0877\n",
            "Epoch 156/200\n",
            "6/6 [==============================] - 0s 1ms/sample - loss: 0.0859\n",
            "Epoch 157/200\n",
            "6/6 [==============================] - 0s 1ms/sample - loss: 0.0842\n",
            "Epoch 158/200\n",
            "6/6 [==============================] - 0s 1ms/sample - loss: 0.0824\n",
            "Epoch 159/200\n",
            "6/6 [==============================] - 0s 1ms/sample - loss: 0.0807\n",
            "Epoch 160/200\n",
            "6/6 [==============================] - 0s 1ms/sample - loss: 0.0791\n",
            "Epoch 161/200\n",
            "6/6 [==============================] - 0s 1ms/sample - loss: 0.0775\n",
            "Epoch 162/200\n",
            "6/6 [==============================] - 0s 1ms/sample - loss: 0.0759\n",
            "Epoch 163/200\n",
            "6/6 [==============================] - 0s 2ms/sample - loss: 0.0743\n",
            "Epoch 164/200\n",
            "6/6 [==============================] - 0s 2ms/sample - loss: 0.0728\n",
            "Epoch 165/200\n",
            "6/6 [==============================] - 0s 2ms/sample - loss: 0.0713\n",
            "Epoch 166/200\n",
            "6/6 [==============================] - 0s 2ms/sample - loss: 0.0698\n",
            "Epoch 167/200\n",
            "6/6 [==============================] - 0s 898us/sample - loss: 0.0684\n",
            "Epoch 168/200\n",
            "6/6 [==============================] - 0s 931us/sample - loss: 0.0670\n",
            "Epoch 169/200\n",
            "6/6 [==============================] - 0s 1ms/sample - loss: 0.0656\n",
            "Epoch 170/200\n",
            "6/6 [==============================] - 0s 1ms/sample - loss: 0.0643\n",
            "Epoch 171/200\n",
            "6/6 [==============================] - 0s 1ms/sample - loss: 0.0629\n",
            "Epoch 172/200\n",
            "6/6 [==============================] - 0s 1ms/sample - loss: 0.0616\n",
            "Epoch 173/200\n",
            "6/6 [==============================] - 0s 1ms/sample - loss: 0.0604\n",
            "Epoch 174/200\n",
            "6/6 [==============================] - 0s 1ms/sample - loss: 0.0591\n",
            "Epoch 175/200\n",
            "6/6 [==============================] - 0s 1ms/sample - loss: 0.0579\n",
            "Epoch 176/200\n",
            "6/6 [==============================] - 0s 2ms/sample - loss: 0.0567\n",
            "Epoch 177/200\n",
            "6/6 [==============================] - 0s 1ms/sample - loss: 0.0556\n",
            "Epoch 178/200\n",
            "6/6 [==============================] - 0s 1ms/sample - loss: 0.0544\n",
            "Epoch 179/200\n",
            "6/6 [==============================] - 0s 1ms/sample - loss: 0.0533\n",
            "Epoch 180/200\n",
            "6/6 [==============================] - 0s 1ms/sample - loss: 0.0522\n",
            "Epoch 181/200\n",
            "6/6 [==============================] - 0s 1ms/sample - loss: 0.0511\n",
            "Epoch 182/200\n",
            "6/6 [==============================] - 0s 1ms/sample - loss: 0.0501\n",
            "Epoch 183/200\n",
            "6/6 [==============================] - 0s 1ms/sample - loss: 0.0491\n",
            "Epoch 184/200\n",
            "6/6 [==============================] - 0s 2ms/sample - loss: 0.0481\n",
            "Epoch 185/200\n",
            "6/6 [==============================] - 0s 1ms/sample - loss: 0.0471\n",
            "Epoch 186/200\n",
            "6/6 [==============================] - 0s 1ms/sample - loss: 0.0461\n",
            "Epoch 187/200\n",
            "6/6 [==============================] - 0s 1ms/sample - loss: 0.0452\n",
            "Epoch 188/200\n",
            "6/6 [==============================] - 0s 1ms/sample - loss: 0.0442\n",
            "Epoch 189/200\n",
            "6/6 [==============================] - 0s 2ms/sample - loss: 0.0433\n",
            "Epoch 190/200\n",
            "6/6 [==============================] - 0s 1ms/sample - loss: 0.0424\n",
            "Epoch 191/200\n",
            "6/6 [==============================] - 0s 1ms/sample - loss: 0.0416\n",
            "Epoch 192/200\n",
            "6/6 [==============================] - 0s 1ms/sample - loss: 0.0407\n",
            "Epoch 193/200\n",
            "6/6 [==============================] - 0s 1ms/sample - loss: 0.0399\n",
            "Epoch 194/200\n",
            "6/6 [==============================] - 0s 1ms/sample - loss: 0.0390\n",
            "Epoch 195/200\n",
            "6/6 [==============================] - 0s 1ms/sample - loss: 0.0382\n",
            "Epoch 196/200\n",
            "6/6 [==============================] - 0s 2ms/sample - loss: 0.0375\n",
            "Epoch 197/200\n",
            "6/6 [==============================] - 0s 1ms/sample - loss: 0.0367\n",
            "Epoch 198/200\n",
            "6/6 [==============================] - 0s 997us/sample - loss: 0.0359\n",
            "Epoch 199/200\n",
            "6/6 [==============================] - 0s 1ms/sample - loss: 0.0352\n",
            "Epoch 200/200\n",
            "6/6 [==============================] - 0s 2ms/sample - loss: 0.0345\n"
          ],
          "name": "stdout"
        },
        {
          "output_type": "execute_result",
          "data": {
            "text/plain": [
              "<tensorflow.python.keras.callbacks.History at 0x7f6ca0228908>"
            ]
          },
          "metadata": {
            "tags": []
          },
          "execution_count": 4
        }
      ]
    },
    {
      "cell_type": "markdown",
      "metadata": {
        "id": "0ZnZOUAyXF7V",
        "colab_type": "text"
      },
      "source": [
        "## Generate a SavedModel"
      ]
    },
    {
      "cell_type": "code",
      "metadata": {
        "id": "mhujN5DFW3BM",
        "colab_type": "code",
        "colab": {
          "base_uri": "https://localhost:8080/",
          "height": 105
        },
        "outputId": "9266b1b0-05ec-4fa4-da4e-cf4e69b16906"
      },
      "source": [
        "export_dir = 'saved_model/1'\n",
        "tf.saved_model.save(model, export_dir)"
      ],
      "execution_count": 5,
      "outputs": [
        {
          "output_type": "stream",
          "text": [
            "WARNING:tensorflow:From /tensorflow-2.1.0/python3.6/tensorflow_core/python/ops/resource_variable_ops.py:1786: calling BaseResourceVariable.__init__ (from tensorflow.python.ops.resource_variable_ops) with constraint is deprecated and will be removed in a future version.\n",
            "Instructions for updating:\n",
            "If using Keras pass *_constraint arguments to layers.\n",
            "INFO:tensorflow:Assets written to: saved_model/1/assets\n"
          ],
          "name": "stdout"
        }
      ]
    },
    {
      "cell_type": "markdown",
      "metadata": {
        "id": "_mt4_OH-XXGl",
        "colab_type": "text"
      },
      "source": [
        "## Convert the SavedModel to TFLite"
      ]
    },
    {
      "cell_type": "code",
      "metadata": {
        "id": "RlAOsllYXTQa",
        "colab_type": "code",
        "colab": {}
      },
      "source": [
        "# convert the model\n",
        "converter = tf.lite.TFLiteConverter.from_saved_model(export_dir)\n",
        "tflite_model = converter.convert()"
      ],
      "execution_count": 0,
      "outputs": []
    },
    {
      "cell_type": "code",
      "metadata": {
        "id": "A_MbfR-fZmVf",
        "colab_type": "code",
        "colab": {
          "base_uri": "https://localhost:8080/",
          "height": 34
        },
        "outputId": "69b55949-fcc3-4070-8d77-9236c13cb5c3"
      },
      "source": [
        "tflite_model_file = pathlib.Path('model.tflite')\n",
        "tflite_model_file.write_bytes(tflite_model)"
      ],
      "execution_count": 7,
      "outputs": [
        {
          "output_type": "execute_result",
          "data": {
            "text/plain": [
              "780"
            ]
          },
          "metadata": {
            "tags": []
          },
          "execution_count": 7
        }
      ]
    },
    {
      "cell_type": "markdown",
      "metadata": {
        "id": "zaMdz3DZZ58b",
        "colab_type": "text"
      },
      "source": [
        "## Initialize the TFLite interpreter to try it out"
      ]
    },
    {
      "cell_type": "code",
      "metadata": {
        "id": "D_GFJJpfZ21J",
        "colab_type": "code",
        "colab": {}
      },
      "source": [
        "# Load TFLite model and allocate tensors.\n",
        "interpreter = tf.lite.Interpreter(model_content=tflite_model)\n",
        "interpreter.allocate_tensors()\n",
        "\n",
        "# Get input and output tensors.\n",
        "input_details = interpreter.get_input_details()\n",
        "output_details = interpreter.get_output_details()"
      ],
      "execution_count": 0,
      "outputs": []
    },
    {
      "cell_type": "code",
      "metadata": {
        "id": "OLDLjdxfhi2p",
        "colab_type": "code",
        "colab": {}
      },
      "source": [
        "# Test the TensorFlow Lite model on random input data.\n",
        "input_shape = input_details[0]['shape']\n",
        "inputs, outputs = [], []\n",
        "for _ in range(100):\n",
        "  input_data = np.array(np.random.random_sample(input_shape), dtype=np.float32)\n",
        "  interpreter.set_tensor(input_details[0]['index'], input_data)\n",
        "\n",
        "  interpreter.invoke()\n",
        "  tflite_results = interpreter.get_tensor(output_details[0]['index'])\n",
        "\n",
        "  # Test the TensorFlow model on random input data.\n",
        "  tf_results = model(tf.constant(input_data))\n",
        "  output_data = np.array(tf_results)\n",
        "  \n",
        "  inputs.append(input_data[0][0])\n",
        "  outputs.append(output_data[0][0])"
      ],
      "execution_count": 0,
      "outputs": []
    },
    {
      "cell_type": "code",
      "metadata": {
        "id": "iT7bYXcYioYu",
        "colab_type": "code",
        "colab": {
          "base_uri": "https://localhost:8080/",
          "height": 265
        },
        "outputId": "7c929323-36ac-4c81-f7ec-012f3a8a3e75"
      },
      "source": [
        "plt.plot(inputs, outputs, 'r')\n",
        "plt.show()"
      ],
      "execution_count": 11,
      "outputs": [
        {
          "output_type": "display_data",
          "data": {
            "image/png": "[encoded data removed]",
            "text/plain": [
              "<Figure size 432x288 with 1 Axes>"
            ]
          },
          "metadata": {
            "tags": []
          }
        }
      ]
    },
    {
      "cell_type": "code",
      "metadata": {
        "id": "AEFoo_p_iq82",
        "colab_type": "code",
        "colab": {}
      },
      "source": [
        ""
      ],
      "execution_count": 0,
      "outputs": []
    }
  ]
}