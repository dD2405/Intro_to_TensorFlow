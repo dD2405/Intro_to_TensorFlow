{
  "nbformat": 4,
  "nbformat_minor": 0,
  "metadata": {
    "colab": {
      "name": "6 Transfer Learning with TensorFlow Hub",
      "provenance": [],
      "authorship_tag": "ABX9TyOD6oqFzVDaN3Li2Sc1MGPy",
      "include_colab_link": true
    },
    "kernelspec": {
      "name": "python3",
      "display_name": "Python 3"
    },
    "accelerator": "GPU"
  },
  "cells": [
    {
      "cell_type": "markdown",
      "metadata": {
        "id": "view-in-github",
        "colab_type": "text"
      },
      "source": [
        "<a href=\"https://colab.research.google.com/github/dD2405/Intro_to_TensorFlow/blob/master/6_Transfer_Learning_with_TensorFlow_Hub.ipynb\" target=\"_parent\"><img src=\"https://colab.research.google.com/assets/colab-badge.svg\" alt=\"Open In Colab\"/></a>"
      ]
    },
    {
      "cell_type": "markdown",
      "metadata": {
        "id": "w7CPi1r_SnHo",
        "colab_type": "text"
      },
      "source": [
        "# TensorFlow Hub and Transfer Learning\n",
        "\n",
        "[TensorFlow Hub](http://tensorflow.org/hub) is an online repository of already trained TensorFlow models that you can use.\n",
        "These models can either be used as is, or they can be used for Transfer Learning.\n",
        "\n",
        "Transfer learning is a process where you take an existing trained model, and extend it to do additional work. This involves leaving the bulk of the model unchanged, while adding and retraining the final layers, in order to get a different set of possible outputs.\n",
        "\n",
        "In this Colab we will do both.\n",
        "\n",
        "Here, you can see all the models available in [TensorFlow Module Hub](https://tfhub.dev/).\n",
        "\n",
        "## Concepts that will be covered in this Colab\n",
        "\n",
        "1. Use a TensorFlow Hub model for prediction.\n",
        "2. Use a TensorFlow Hub model for Dogs vs. Cats dataset.\n",
        "3. Do simple transfer learning with TensorFlow Hub.\n",
        "\n",
        "Before starting this Colab, you should reset the Colab environment by selecting `Runtime -> Reset all runtimes...` from menu above."
      ]
    },
    {
      "cell_type": "code",
      "metadata": {
        "id": "LbfDvHNnR0lH",
        "colab_type": "code",
        "colab": {}
      },
      "source": [
        "from __future__ import division, unicode_literals, absolute_import, print_function"
      ],
      "execution_count": 0,
      "outputs": []
    },
    {
      "cell_type": "code",
      "metadata": {
        "id": "WmQPaMaHU29G",
        "colab_type": "code",
        "colab": {}
      },
      "source": [
        "try:\n",
        "    %tensorflow_version 2.x\n",
        "except Exception:\n",
        "    pass\n",
        "\n",
        "import tensorflow as tf"
      ],
      "execution_count": 0,
      "outputs": []
    },
    {
      "cell_type": "code",
      "metadata": {
        "id": "vPU9D4g5VC0J",
        "colab_type": "code",
        "colab": {}
      },
      "source": [
        "import matplotlib.pylab as plt\n",
        "\n",
        "import tensorflow_hub as hub\n",
        "import tensorflow_datasets as tfds\n",
        "\n",
        "from tensorflow.keras import layers"
      ],
      "execution_count": 0,
      "outputs": []
    },
    {
      "cell_type": "code",
      "metadata": {
        "id": "mHLDUp_KVdhx",
        "colab_type": "code",
        "colab": {}
      },
      "source": [
        "import logging\n",
        "logger = tf.get_logger()\n",
        "logger.setLevel(logging.ERROR)"
      ],
      "execution_count": 0,
      "outputs": []
    },
    {
      "cell_type": "markdown",
      "metadata": {
        "id": "NhCSOh-1WLys",
        "colab_type": "text"
      },
      "source": [
        "# Part 1: Use a TensorFlow Hub MobileNet for prediction"
      ]
    },
    {
      "cell_type": "markdown",
      "metadata": {
        "id": "WSzFB83zWAKD",
        "colab_type": "text"
      },
      "source": [
        "\n",
        "\n",
        "\n",
        "In this part of the Colab, we'll take a trained model, load it into to Keras, and try it out.\n",
        "\n",
        "The model that we'll use is MobileNet v2 (but any model from [tf2 compatible image classifier URL from tfhub.dev](https://tfhub.dev/s?q=tf2&module-type=image-classification) would work)."
      ]
    },
    {
      "cell_type": "markdown",
      "metadata": {
        "id": "ilokRnUdWIU6",
        "colab_type": "text"
      },
      "source": [
        "## Download the classifier\n",
        "\n",
        "Download the MobileNet model and create a Keras model from it.\n",
        "MobileNet is expecting images of 224 $\\times$ 224 pixels, in 3 color channels (RGB)."
      ]
    },
    {
      "cell_type": "code",
      "metadata": {
        "id": "trnd5Ng0V_Vh",
        "colab_type": "code",
        "colab": {}
      },
      "source": [
        "CLASSIFIER_URL =\"https://tfhub.dev/google/tf2-preview/mobilenet_v2/classification/2\"\n",
        "IMAGE_RES = 224\n",
        "\n",
        "model = tf.keras.Sequential([hub.KerasLayer(CLASSIFIER_URL, input_shape=(IMAGE_RES, IMAGE_RES, 3))])"
      ],
      "execution_count": 0,
      "outputs": []
    },
    {
      "cell_type": "markdown",
      "metadata": {
        "id": "hGdLfgyPXFvW",
        "colab_type": "text"
      },
      "source": [
        "## Run it on a single image\n",
        "\n",
        "\n",
        "MobileNet has been trained on the ImageNet dataset. ImageNet has 1000 different output classes, and one of them is military uniforms.\n",
        "Let's get an image containing a military uniform that is not part of ImageNet, and see if our model can predict that it is a military uniform."
      ]
    },
    {
      "cell_type": "code",
      "metadata": {
        "id": "GE2iIteVWqiu",
        "colab_type": "code",
        "colab": {}
      },
      "source": [
        "import numpy as np\n",
        "import PIL.Image as Image\n",
        "\n",
        "grace_hopper = tf.keras.utils.get_file('image.jpg','https://storage.googleapis.com/download.tensorflow.org/example_images/grace_hopper.jpg')\n",
        "grace_hopper = Image.open(grace_hopper).resize((IMAGE_RES,IMAGE_RES))\n",
        "grace_hopper"
      ],
      "execution_count": 0,
      "outputs": []
    },
    {
      "cell_type": "code",
      "metadata": {
        "id": "HpujnaHGovU2",
        "colab_type": "code",
        "colab": {}
      },
      "source": [
        "grace_hopper = np.array(grace_hopper)/255.0\n",
        "grace_hopper.shape"
      ],
      "execution_count": 0,
      "outputs": []
    },
    {
      "cell_type": "markdown",
      "metadata": {
        "id": "owtt5ceTqHKH",
        "colab_type": "text"
      },
      "source": [
        "Remember, models always want a batch of images to process. So here, we add a batch dimension, and pass the image to the model for prediction."
      ]
    },
    {
      "cell_type": "code",
      "metadata": {
        "id": "ez5LN5jYqDdx",
        "colab_type": "code",
        "colab": {}
      },
      "source": [
        "result = model.predict(grace_hopper[np.newaxis, ...])\n",
        "result.shape"
      ],
      "execution_count": 0,
      "outputs": []
    },
    {
      "cell_type": "markdown",
      "metadata": {
        "id": "mymlbcixq3wO",
        "colab_type": "text"
      },
      "source": [
        "The result is a 1001 element vector of logits, rating the probability of each class for the image.\n",
        "\n",
        "So the top class ID can be found with argmax. But how can we know what class this actually is and in particular if that class ID in the ImageNet dataset denotes a military uniform or something else?"
      ]
    },
    {
      "cell_type": "code",
      "metadata": {
        "id": "PE-1cGPxqYAF",
        "colab_type": "code",
        "colab": {}
      },
      "source": [
        "result"
      ],
      "execution_count": 0,
      "outputs": []
    },
    {
      "cell_type": "code",
      "metadata": {
        "id": "SBfu3hlhq08d",
        "colab_type": "code",
        "colab": {}
      },
      "source": [
        "# axis = -1 or axis = 0, both can be used to access the max value of column \n",
        "predicted_class = np.argmax(result[0], axis = -1)\n",
        "predicted_class"
      ],
      "execution_count": 0,
      "outputs": []
    },
    {
      "cell_type": "markdown",
      "metadata": {
        "id": "ByodC5gN4cu9",
        "colab_type": "text"
      },
      "source": [
        "## Decode the predictions\n",
        "\n",
        "To see what our predicted_class is in the ImageNet dataset, download the ImageNet labels and fetch the row that the model predicted."
      ]
    },
    {
      "cell_type": "code",
      "metadata": {
        "id": "AedIZOWTr4Om",
        "colab_type": "code",
        "colab": {}
      },
      "source": [
        "labels_path = tf.keras.utils.get_file('ImageNetLabels.txt','https://storage.googleapis.com/download.tensorflow.org/data/ImageNetLabels.txt')\n",
        "imagenet_labels = np.array(open(labels_path).read().splitlines())\n",
        "\n",
        "plt.imshow(grace_hopper)\n",
        "plt.axis('off')\n",
        "predicted_class_name = imagenet_labels[predicted_class] \n",
        "_ = plt.title(\"Prediction:\" + predicted_class_name.title())\n"
      ],
      "execution_count": 0,
      "outputs": []
    },
    {
      "cell_type": "markdown",
      "metadata": {
        "id": "HQhS4XlJ-AuT",
        "colab_type": "text"
      },
      "source": [
        "# Part 2: Use a TensorFlow Hub models for the Cats vs. Dogs dataset"
      ]
    },
    {
      "cell_type": "markdown",
      "metadata": {
        "id": "oud5vmQr-EDz",
        "colab_type": "text"
      },
      "source": [
        "Now we'll use the full MobileNet model and see how it can perform on the Dogs vs. Cats dataset."
      ]
    },
    {
      "cell_type": "markdown",
      "metadata": {
        "id": "X5EQBv46-FOj",
        "colab_type": "text"
      },
      "source": [
        "## Dataset\n",
        "\n",
        "We can use TensorFlow Datasets to load the Dogs vs Cats dataset."
      ]
    },
    {
      "cell_type": "code",
      "metadata": {
        "id": "hvUoMVA49JAs",
        "colab_type": "code",
        "colab": {}
      },
      "source": [
        "splits = tfds.Split.ALL.subsplit(weighted=(80, 20))\n",
        "\n",
        "splits, info = tfds.load('cats_vs_dogs', with_info=True, as_supervised=True, split = splits)\n",
        "\n",
        "(train_examples, validation_examples) = splits\n",
        "\n",
        "num_examples = info.splits['train'].num_examples\n",
        "num_classes = info.features['label'].num_classes"
      ],
      "execution_count": 0,
      "outputs": []
    },
    {
      "cell_type": "markdown",
      "metadata": {
        "id": "cpvqtQ-V9rZ8",
        "colab_type": "text"
      },
      "source": [
        "The images in the Dogs vs. Cats dataset are not all the same size.\n",
        "\n"
      ]
    },
    {
      "cell_type": "code",
      "metadata": {
        "id": "DIDxy5TE9n3m",
        "colab_type": "code",
        "colab": {}
      },
      "source": [
        "for i, example_image in enumerate(train_examples.take(5)):\n",
        "    print(\"Image {} shape: {}\".format(i+1, example_image[0].shape))"
      ],
      "execution_count": 0,
      "outputs": []
    },
    {
      "cell_type": "markdown",
      "metadata": {
        "id": "XWY5u4ddBZdu",
        "colab_type": "text"
      },
      "source": [
        "So we need to reformat all images to the resolution expected by MobileNet (224, 224).\n",
        "\n",
        "\n",
        "\n",
        "The `.repeat()` and `steps_per_epoch` here is not required, but saves ~15s per epoch, since the shuffle-buffer only has to cold-start once."
      ]
    },
    {
      "cell_type": "code",
      "metadata": {
        "id": "TGrmhg0RBYxQ",
        "colab_type": "code",
        "colab": {}
      },
      "source": [
        "def format_image()"
      ],
      "execution_count": 0,
      "outputs": []
    },
    {
      "cell_type": "code",
      "metadata": {
        "id": "xFfM0Ydz93vT",
        "colab_type": "code",
        "colab": {}
      },
      "source": [
        ""
      ],
      "execution_count": 0,
      "outputs": []
    }
  ]
}